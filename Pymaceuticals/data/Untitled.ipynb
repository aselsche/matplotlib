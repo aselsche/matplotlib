{
 "cells": [
  {
   "cell_type": "code",
   "execution_count": null,
   "id": "f59a5306-0bf0-457b-b2e1-850f3286a0cb",
   "metadata": {},
   "outputs": [],
   "source": [
    "# Getting the duplicate mice by ID number that shows up for Mouse ID and Timepoint. \n",
    "#duplicate_mice=mouse_data_combined.duplicated(subset=['Mouse ID'])\n",
    "#duplicate_mice\n",
    "\n",
    "#dupl_mice = mouse_data_combined[mouse_data_combined.duplicated(['Mouse ID'], keep=False)]\n",
    "#mouse_df[mouse_df.duplicated(['Mouse ID'])==True].sort_values('Mouse ID')\n",
    "#newdf = mouse_df.drop_duplicates(\n",
    "  #subset = ['Mouse ID', 'Timepoint'],\n",
    "  #keep = 'last').reset_index(drop = True)\n",
    "#newdf\n",
    "\n",
    "#dupl_mice=mouse_df.drop_duplicates(subset=['Mouse ID', 'Timepoint'])\n",
    "\n",
    "\n",
    "# get names of indexes for mouse who has duplicate record"
   ]
  },
  {
   "cell_type": "code",
   "execution_count": null,
   "id": "464f6d22-6d81-4d56-8555-0616cd7fe9a1",
   "metadata": {},
   "outputs": [],
   "source": [
    "# sorting by first name\n",
    "mouse_combined_df.sort_values(\"Mouse ID\", inplace = True)\n",
    " \n",
    "# dropping ALL duplicate values\n",
    "mouse_combined_df.drop_duplicates(subset =\"Mouse ID\",\n",
    "                     keep = False, inplace = True)\n",
    " \n",
    "# displaying data\n",
    "mouse_combined_df"
   ]
  }
 ],
 "metadata": {
  "kernelspec": {
   "display_name": "Python 3",
   "language": "python",
   "name": "python3"
  },
  "language_info": {
   "codemirror_mode": {
    "name": "ipython",
    "version": 3
   },
   "file_extension": ".py",
   "mimetype": "text/x-python",
   "name": "python",
   "nbconvert_exporter": "python",
   "pygments_lexer": "ipython3",
   "version": "3.9.5"
  }
 },
 "nbformat": 4,
 "nbformat_minor": 5
}
